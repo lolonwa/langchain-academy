{
 "cells": [
  {
   "cell_type": "code",
   "execution_count": 4,
   "id": "4b77f5ff",
   "metadata": {},
   "outputs": [
    {
     "name": "stdout",
     "output_type": "stream",
     "text": [
      "content=' The capital of France is Paris.' additional_kwargs={} response_metadata={'model': 'openchat', 'created_at': '2025-04-23T23:12:11.7630938Z', 'done': True, 'done_reason': 'stop', 'total_duration': 2151049400, 'load_duration': 28314700, 'prompt_eval_count': 24, 'prompt_eval_duration': 303000000, 'eval_count': 8, 'eval_duration': 1816000000, 'model_name': 'openchat'} id='run-bba99933-9aab-434f-8603-74ab79ae5e06-0' usage_metadata={'input_tokens': 24, 'output_tokens': 8, 'total_tokens': 32}\n"
     ]
    }
   ],
   "source": [
    "from langchain_ollama import ChatOllama\n",
    "from langchain_core.messages import HumanMessage\n",
    "\n",
    "openchat = ChatOllama(model=\"openchat\", temperature=1)\n",
    "response =[HumanMessage(content=\"What is the capital of France?\")]\n",
    "print(openchat.invoke(response))  # Expected output: \"The capital of France is Paris.\""
   ]
  },
  {
   "cell_type": "code",
   "execution_count": null,
   "id": "af413e71",
   "metadata": {},
   "outputs": [],
   "source": []
  }
 ],
 "metadata": {
  "kernelspec": {
   "display_name": ".venv",
   "language": "python",
   "name": "python3"
  },
  "language_info": {
   "codemirror_mode": {
    "name": "ipython",
    "version": 3
   },
   "file_extension": ".py",
   "mimetype": "text/x-python",
   "name": "python",
   "nbconvert_exporter": "python",
   "pygments_lexer": "ipython3",
   "version": "3.13.3"
  }
 },
 "nbformat": 4,
 "nbformat_minor": 5
}
